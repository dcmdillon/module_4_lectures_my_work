{
  "nbformat": 4,
  "nbformat_minor": 0,
  "metadata": {
    "anaconda-cloud": {},
    "kernelspec": {
      "display_name": "Python 3",
      "language": "python",
      "name": "python3"
    },
    "language_info": {
      "codemirror_mode": {
        "name": "ipython",
        "version": 3
      },
      "file_extension": ".py",
      "mimetype": "text/x-python",
      "name": "python",
      "nbconvert_exporter": "python",
      "pygments_lexer": "ipython3",
      "version": "3.7.6"
    },
    "colab": {
      "name": "lecture_4_3_reading_writing_files.ipynb",
      "provenance": [],
      "include_colab_link": true
    }
  },
  "cells": [
    {
      "cell_type": "markdown",
      "metadata": {
        "id": "view-in-github",
        "colab_type": "text"
      },
      "source": [
        "<a href=\"https://colab.research.google.com/github/dcmdillon/module_4_lectures_my_work/blob/master/lecture_4_3_reading_writing_files.ipynb\" target=\"_parent\"><img src=\"https://colab.research.google.com/assets/colab-badge.svg\" alt=\"Open In Colab\"/></a>"
      ]
    },
    {
      "cell_type": "markdown",
      "metadata": {
        "id": "C9kayeGboFc_"
      },
      "source": [
        "# File handler object and opening and closing files\n",
        "\n",
        "* `open` creates a file handler\n",
        "    * Not the file itself\n",
        "    * used to read and write\n",
        "* Needs proper handling\n",
        "    * open\n",
        "    * close\n",
        "    * flush\n",
        "    "
      ]
    },
    {
      "cell_type": "code",
      "metadata": {
        "id": "jXARHb_hoFdA",
        "outputId": "ad736307-89aa-46fe-8cd1-824076cd29de"
      },
      "source": [
        "# read ('r') is the default mode\n",
        "f = open('sell_short_trades.txt')\n",
        "type(f)"
      ],
      "execution_count": null,
      "outputs": [
        {
          "output_type": "execute_result",
          "data": {
            "text/plain": [
              "_io.TextIOWrapper"
            ]
          },
          "metadata": {
            "tags": []
          },
          "execution_count": 5
        }
      ]
    },
    {
      "cell_type": "code",
      "metadata": {
        "id": "vAFTyeOIoFdF",
        "outputId": "301936fe-2939-49ad-ed34-757752c788de"
      },
      "source": [
        "f"
      ],
      "execution_count": null,
      "outputs": [
        {
          "output_type": "execute_result",
          "data": {
            "text/plain": [
              "<_io.TextIOWrapper name='sell_short_trades.txt' mode='r' encoding='UTF-8'>"
            ]
          },
          "metadata": {
            "tags": []
          },
          "execution_count": 6
        }
      ]
    },
    {
      "cell_type": "code",
      "metadata": {
        "id": "b5DmWeSQoFdJ"
      },
      "source": [
        "f.close()"
      ],
      "execution_count": null,
      "outputs": []
    },
    {
      "cell_type": "markdown",
      "metadata": {
        "id": "c3wuJdDHoFdN"
      },
      "source": [
        "## Reading the whole file with `read`\n",
        "\n",
        "You can read the whole file with the `read` method."
      ]
    },
    {
      "cell_type": "code",
      "metadata": {
        "id": "qEiCSihMoFdO"
      },
      "source": [
        "f = open('sell_short_trades.txt')\n",
        "trades_file = f.read()\n",
        "f.close()"
      ],
      "execution_count": null,
      "outputs": []
    },
    {
      "cell_type": "code",
      "metadata": {
        "id": "YaJQ4-lioFdS",
        "outputId": "47427f90-077c-458c-ae58-f5d5afd609a9"
      },
      "source": [
        "trades_file[:500]"
      ],
      "execution_count": null,
      "outputs": [
        {
          "output_type": "execute_result",
          "data": {
            "text/plain": [
              "'                                                                                                                \\n DOTC                                                                                 RUN DATE : 06/14/17 21:56 \\n                                                                                             RPT DATE :06/14/17 \\n                                    TTS0126:SELL SHORT TRADES & SHORT EXEMPT                                    \\n Symbol   Side    Cxl      Qty    Price       Bi'"
            ]
          },
          "metadata": {
            "tags": []
          },
          "execution_count": 9
        }
      ]
    },
    {
      "cell_type": "markdown",
      "metadata": {
        "id": "LB62au_6oFdV"
      },
      "source": [
        "## Reading all lines with `readlines`\n",
        "\n",
        "You can read all the lines of a file with the `readline` method."
      ]
    },
    {
      "cell_type": "code",
      "metadata": {
        "id": "NEA8YXXooFdW"
      },
      "source": [
        "f = open('sell_short_trades.txt')\n",
        "lines = f.readlines()\n",
        "f.close()"
      ],
      "execution_count": null,
      "outputs": []
    },
    {
      "cell_type": "code",
      "metadata": {
        "id": "U8fQ9-A4oFdZ",
        "outputId": "8d66438f-982d-478a-d634-4a1bf5e1289e"
      },
      "source": [
        "lines[:10]"
      ],
      "execution_count": null,
      "outputs": [
        {
          "output_type": "execute_result",
          "data": {
            "text/plain": [
              "['                                                                                                                \\n',\n",
              " ' DOTC                                                                                 RUN DATE : 06/14/17 21:56 \\n',\n",
              " '                                                                                             RPT DATE :06/14/17 \\n',\n",
              " '                                    TTS0126:SELL SHORT TRADES & SHORT EXEMPT                                    \\n',\n",
              " ' Symbol   Side    Cxl      Qty    Price       Bid        Ask        T-DatS-DatTradeID      TradeTiSS      Exbkr \\n',\n",
              " '                                                                                                                \\n',\n",
              " ' TradeCommType  SourceCommission   Account   OrderID      GTL               Trailer Info               Clr      \\n',\n",
              " ' CERS     SS      NEW        2,756   2.400000    2.340000   2.45000006/1406/191706149900003 09:30:CustSS        \\n',\n",
              " '                                                                    /17  /17  256945       00                   \\n',\n",
              " ' 0704 PerUnit   TERM  0.010000     AABBC     1706149900003#STA=GSCO                                             \\n']"
            ]
          },
          "metadata": {
            "tags": []
          },
          "execution_count": 11
        }
      ]
    },
    {
      "cell_type": "markdown",
      "metadata": {
        "id": "PqSjCwwaoFde"
      },
      "source": [
        "## Reading files is unsafe!!1!one!\n",
        "\n",
        "* File might not exist.\n",
        "* File might be in use/locked.\n",
        "* Path might not exist."
      ]
    },
    {
      "cell_type": "markdown",
      "metadata": {
        "id": "9c3YVB-0oFdf"
      },
      "source": [
        "## Writing files is EVEN MORE unsafe!!1!one!\n",
        "\n",
        "* You can overwrite data!\n",
        "* File might not exist.\n",
        "* File might be in use/locked.\n",
        "* Path might not exist."
      ]
    },
    {
      "cell_type": "markdown",
      "metadata": {
        "id": "Nn9hj7C0oFdf"
      },
      "source": [
        "## Managing files inside `with` fixes many problems.\n",
        "\n",
        "* Files automatically open and close.\n",
        "* Automatic close $\\rightarrow$ not locking out files\n",
        "* Work with context managers that can automatically deal with weird cases."
      ]
    },
    {
      "cell_type": "markdown",
      "metadata": {
        "id": "N5Txc9hToFdg"
      },
      "source": [
        "## ALWAYS manage files inside a `with` statement \n",
        "\n",
        "* opening and closing is *context management*\n",
        "* Automate this with ``with``\n",
        "    * safe and **important**"
      ]
    },
    {
      "cell_type": "code",
      "metadata": {
        "id": "8kpWmwqgoFdh",
        "outputId": "72212653-d6e5-4b12-dbd4-44168bd88b25"
      },
      "source": [
        "with open('sell_short_trades.txt') as f:\n",
        "    lines = f.readlines()\n",
        "lines[:5]"
      ],
      "execution_count": null,
      "outputs": [
        {
          "output_type": "execute_result",
          "data": {
            "text/plain": [
              "['                                                                                                                \\n',\n",
              " ' DOTC                                                                                 RUN DATE : 06/14/17 21:56 \\n',\n",
              " '                                                                                             RPT DATE :06/14/17 \\n',\n",
              " '                                    TTS0126:SELL SHORT TRADES & SHORT EXEMPT                                    \\n',\n",
              " ' Symbol   Side    Cxl      Qty    Price       Bid        Ask        T-DatS-DatTradeID      TradeTiSS      Exbkr \\n']"
            ]
          },
          "metadata": {
            "tags": []
          },
          "execution_count": 12
        }
      ]
    },
    {
      "cell_type": "code",
      "metadata": {
        "id": "IboncH_ioFdj",
        "outputId": "04ccadef-0d0d-4f33-daba-ad82b08fc490"
      },
      "source": [
        "len(lines)"
      ],
      "execution_count": null,
      "outputs": [
        {
          "output_type": "execute_result",
          "data": {
            "text/plain": [
              "4158"
            ]
          },
          "metadata": {
            "tags": []
          },
          "execution_count": 13
        }
      ]
    },
    {
      "cell_type": "markdown",
      "metadata": {
        "id": "y3DIhK36oFdn"
      },
      "source": [
        "## Cleaning File Workflow\n",
        "\n",
        "When cleaning a file, we generally\n",
        "\n",
        "1. Read and split the file e.g. into lines (unfold)\n",
        "2. Transform the parts of the file e.g. filter the lines (tranform)\n",
        "3. Join the processed lines together (fold)\n",
        "4. Write the result to a *new file*"
      ]
    },
    {
      "cell_type": "markdown",
      "metadata": {
        "id": "z8SbFWFmoFdn"
      },
      "source": [
        "## Example 1\n",
        "\n",
        "Suppose we only want to keep the lines that start with `'CERS'`.  Like most things, this can be accomplished with a comprehension.\n",
        "\n",
        "**Note:** `strip` removes whitespace from the ends of the string.  Using `strip` early and often is a good habit!"
      ]
    },
    {
      "cell_type": "code",
      "metadata": {
        "id": "bhUP_aeqoFdo",
        "outputId": "2988fb24-ddef-4fe2-b28d-f08af39149e8"
      },
      "source": [
        "cers_lines = [line.strip() for line in lines if line.strip().startswith('CERS')]\n",
        "cers_lines[:5]"
      ],
      "execution_count": null,
      "outputs": [
        {
          "output_type": "execute_result",
          "data": {
            "text/plain": [
              "['CERS     SS      NEW        2,756   2.400000    2.340000   2.45000006/1406/191706149900003 09:30:CustSS',\n",
              " 'CERS     SS      NEW          100   2.36000018422.360000   2.37000006/1406/191706149900003 10:20:ContraSSFREX',\n",
              " 'CERS     SS      NEW          200   2.350000    2.360000   2.37000006/1406/191706149900003 10:20:ContraSSFREX',\n",
              " 'CERS     SS      NEW          100   2.350000    2.350000   2.36000006/1406/191706149900003 10:20:ContraSSFREX',\n",
              " 'CERS     SS      NEW          100   2.350000    2.350000   2.36000006/1406/191706149900003 10:22:ContraSSFREX']"
            ]
          },
          "metadata": {
            "tags": []
          },
          "execution_count": 14
        }
      ]
    },
    {
      "cell_type": "markdown",
      "metadata": {
        "id": "KwjcOEVAoFdr"
      },
      "source": [
        "## Example 2\n",
        "\n",
        "Suppose we only want to keep the lines that start with `'CERS'` **and split up all the data the data on each line**.  Like most things, this can be accomplished with a comprehension.\n"
      ]
    },
    {
      "cell_type": "code",
      "metadata": {
        "scrolled": true,
        "id": "wCfxjqnBoFds",
        "outputId": "b21ddfc3-e13f-4ee7-bbc2-ebbec8f0d201"
      },
      "source": [
        "cers_split_lines = [line.strip().split() for line in lines if line.strip().startswith('CERS')]\n",
        "cers_split_lines[:5]"
      ],
      "execution_count": null,
      "outputs": [
        {
          "output_type": "execute_result",
          "data": {
            "text/plain": [
              "[['CERS',\n",
              "  'SS',\n",
              "  'NEW',\n",
              "  '2,756',\n",
              "  '2.400000',\n",
              "  '2.340000',\n",
              "  '2.45000006/1406/191706149900003',\n",
              "  '09:30:CustSS'],\n",
              " ['CERS',\n",
              "  'SS',\n",
              "  'NEW',\n",
              "  '100',\n",
              "  '2.36000018422.360000',\n",
              "  '2.37000006/1406/191706149900003',\n",
              "  '10:20:ContraSSFREX'],\n",
              " ['CERS',\n",
              "  'SS',\n",
              "  'NEW',\n",
              "  '200',\n",
              "  '2.350000',\n",
              "  '2.360000',\n",
              "  '2.37000006/1406/191706149900003',\n",
              "  '10:20:ContraSSFREX'],\n",
              " ['CERS',\n",
              "  'SS',\n",
              "  'NEW',\n",
              "  '100',\n",
              "  '2.350000',\n",
              "  '2.350000',\n",
              "  '2.36000006/1406/191706149900003',\n",
              "  '10:20:ContraSSFREX'],\n",
              " ['CERS',\n",
              "  'SS',\n",
              "  'NEW',\n",
              "  '100',\n",
              "  '2.350000',\n",
              "  '2.350000',\n",
              "  '2.36000006/1406/191706149900003',\n",
              "  '10:22:ContraSSFREX']]"
            ]
          },
          "metadata": {
            "tags": []
          },
          "execution_count": 39
        }
      ]
    },
    {
      "cell_type": "markdown",
      "metadata": {
        "id": "CKwO2G2loFdu"
      },
      "source": [
        "## Example 3 - Being selective with `enumerate`\n",
        "\n",
        "When the location of an element of a sequence matters, we can `enumerate` to gain access to the element index.  Suppose we want to only keep every other line that starts with `CERS`"
      ]
    },
    {
      "cell_type": "code",
      "metadata": {
        "id": "VJyEwvjFoFdv",
        "outputId": "25a32a7d-66c2-4495-caa3-cf66f659173b"
      },
      "source": [
        "every_other = [line.strip() for i, line in enumerate(lines) if line.strip().startswith('CERS') and i % 2 == 0]\n",
        "every_other[:5]"
      ],
      "execution_count": null,
      "outputs": [
        {
          "output_type": "execute_result",
          "data": {
            "text/plain": [
              "['CERS     SS      NEW          100   2.36000018422.360000   2.37000006/1406/191706149900003 10:20:ContraSSFREX',\n",
              " 'CERS     SS      NEW          200   2.350000    2.360000   2.37000006/1406/191706149900003 10:20:ContraSSFREX',\n",
              " 'CERS     SS      NEW          100   2.350000    2.350000   2.36000006/1406/191706149900003 10:20:ContraSSFREX',\n",
              " 'CERS     SS      NEW          100   2.350000    2.350000   2.36000006/1406/191706149900003 10:22:ContraSSFREX',\n",
              " 'CERS     SS      NEW          100   2.360000    2.350000   2.36000006/1406/191706149900003 10:24:ContraSSFREX']"
            ]
          },
          "metadata": {
            "tags": []
          },
          "execution_count": 16
        }
      ]
    },
    {
      "cell_type": "markdown",
      "metadata": {
        "id": "VeYiCi9ioFd3"
      },
      "source": [
        "<h2> <font color='red'> Exercise 1 </font></h2>\n",
        "\n",
        "Suppose that we are only interested in keeping the second and third entry in each line that starts with `'CERS'`.  Perform this task with a list comprehension.  **Hint:** Slice!"
      ]
    },
    {
      "cell_type": "code",
      "metadata": {
        "id": "BPtsBgSGoFd3",
        "outputId": "08fa23da-b000-4086-c229-08fc3d31aeaa"
      },
      "source": [
        "cers_first_two = [line.strip()[slice(line.find('     '),line.find(' ',line.find('      ')+6))].strip().split() for line in lines if line.strip().startswith('CERS')]\n",
        "cers_first_two[:5]"
      ],
      "execution_count": null,
      "outputs": [
        {
          "output_type": "execute_result",
          "data": {
            "text/plain": [
              "[['SS', 'NEW'], ['SS', 'NEW'], ['SS', 'NEW'], ['SS', 'NEW'], ['SS', 'NEW']]"
            ]
          },
          "metadata": {
            "tags": []
          },
          "execution_count": 32
        }
      ]
    },
    {
      "cell_type": "markdown",
      "metadata": {
        "id": "2ql3UfEDoFd6"
      },
      "source": [
        "## Joining processed line\n",
        "\n",
        "After processing the lines in a file and before writing the results, we join the lines to prepare the contents of the file as a single string.  This is accomplished using the `'\\n'.join`, which glues the lines back together using `'\\n'`, which puts each string on its own line."
      ]
    },
    {
      "cell_type": "code",
      "metadata": {
        "id": "IjhXRUgToFd7",
        "outputId": "19fcd388-67f6-47c3-d6e0-7618a61af089"
      },
      "source": [
        "content = '\\n'.join(cers_lines)\n",
        "content[:100]"
      ],
      "execution_count": null,
      "outputs": [
        {
          "output_type": "execute_result",
          "data": {
            "text/plain": [
              "'CERS     SS      NEW        2,756   2.400000    2.340000   2.45000006/1406/191706149900003 09:30:Cus'"
            ]
          },
          "metadata": {
            "tags": []
          },
          "execution_count": 42
        }
      ]
    },
    {
      "cell_type": "markdown",
      "metadata": {
        "id": "WnoCum3XoFd-"
      },
      "source": [
        "## Using `','.join` to create csv files.\n",
        "\n",
        "When you have split a line of data into parts (see Example 2), we generally join these values back together using commas.  This can be accomplished by applying `','.join` to each of the split lines."
      ]
    },
    {
      "cell_type": "code",
      "metadata": {
        "id": "iGLsV3FjoFd-",
        "outputId": "9d935d71-f308-46fb-bbcb-20a124024c90"
      },
      "source": [
        "csv_content = '\\n'.join([','.join(line) for line in cers_split_lines])\n",
        "print(csv_content[:500])"
      ],
      "execution_count": null,
      "outputs": [
        {
          "output_type": "stream",
          "text": [
            "CERS,SS,NEW,2,756,2.400000,2.340000,2.45000006/1406/191706149900003,09:30:CustSS\n",
            "CERS,SS,NEW,100,2.36000018422.360000,2.37000006/1406/191706149900003,10:20:ContraSSFREX\n",
            "CERS,SS,NEW,200,2.350000,2.360000,2.37000006/1406/191706149900003,10:20:ContraSSFREX\n",
            "CERS,SS,NEW,100,2.350000,2.350000,2.36000006/1406/191706149900003,10:20:ContraSSFREX\n",
            "CERS,SS,NEW,100,2.350000,2.350000,2.36000006/1406/191706149900003,10:22:ContraSSFREX\n",
            "CERS,SS,NEW,100,2.360000,2.350000,2.36000006/1406/191706149900003,10:24:Cont\n"
          ],
          "name": "stdout"
        }
      ]
    },
    {
      "cell_type": "markdown",
      "metadata": {
        "id": "lwjrcHdooFeD"
      },
      "source": [
        "<h2> <font color='red'> Exercise 2 </font></h2>\n",
        "\n",
        "Suppose we are planning to write the contents of our work in <font color='red'> Exercise 1 </font> in to a csv file.  Create a content string that contains the data, separated by strings, with one line per data row. "
      ]
    },
    {
      "cell_type": "code",
      "metadata": {
        "id": "jho7dqHdoFeE",
        "outputId": "fe803ebe-68c7-46e3-cf14-f13805e486ad"
      },
      "source": [
        "csv_content2 = '\\n'.join([','.join(line) for line in cers_first_two])\n",
        "print(csv_content[:363])"
      ],
      "execution_count": null,
      "outputs": [
        {
          "output_type": "stream",
          "text": [
            "SS,NEW\n",
            "SS,NEW\n",
            "SS,NEW\n",
            "SS,NEW\n",
            "SS,NEW\n",
            "SS,NEW\n",
            "SS,NEW\n",
            "SS,NEW\n",
            "SS,NEW\n",
            "SS,NEW\n",
            "SS,NEW\n",
            "SS,NEW\n",
            "SS,NEW\n",
            "SS,NEW\n",
            "SS,NEW\n",
            "SS,NEW\n",
            "SS,NEW\n",
            "SS,NEW\n",
            "SS,NEW\n",
            "SS,NEW\n",
            "SS,NEW\n",
            "SS,NEW\n",
            "SS,NEW\n",
            "SS,NEW\n",
            "SS,NEW\n",
            "SS,NEW\n",
            "SS,NEW\n",
            "SS,NEW\n",
            "SS,NEW\n",
            "SS,NEW\n",
            "SS,NEW\n",
            "SS,NEW\n",
            "SS,NEW\n",
            "SS,NEW\n",
            "SS,NEW\n",
            "SS,NEW\n",
            "SS,NEW\n",
            "SS,NEW\n",
            "SS,NEW\n",
            "SS,NEW\n",
            "SS,NEW\n",
            "SS,NEW\n",
            "SS,NEW\n",
            "SS,NEW\n",
            "SS,NEW\n",
            "SS,NEW\n",
            "SS,NEW\n",
            "SS,NEW\n",
            "SS,NEW\n",
            "SS,NEW\n",
            "SS,NEW\n",
            "SS,NEW\n"
          ],
          "name": "stdout"
        }
      ]
    },
    {
      "cell_type": "markdown",
      "metadata": {
        "id": "z8W2fO3woFeH"
      },
      "source": [
        "## Writing to files\n",
        "\n",
        "* Need to open with `mode='w'` or `'a'`\n",
        "    * `'w'` is *write*\n",
        "    * `'a'` is *append*\n",
        "* **Be careful!**\n",
        "    * open('file','w') **immediately** erases `file`"
      ]
    },
    {
      "cell_type": "markdown",
      "metadata": {
        "id": "YgL_Xx4xoFeH"
      },
      "source": [
        "## Example - writing out the `'CERS'` lines to a csv file"
      ]
    },
    {
      "cell_type": "code",
      "metadata": {
        "id": "559fmR-5oFeI"
      },
      "source": [
        "with open('cers_lines.csv','w') as outfile:\n",
        "    outfile.write(csv_content)"
      ],
      "execution_count": null,
      "outputs": []
    },
    {
      "cell_type": "code",
      "metadata": {
        "id": "R3Sikyo0oFeK",
        "outputId": "184ecc11-3c34-4b4b-d243-bf374ccd5603"
      },
      "source": [
        "!cat cers_lines.csv | head -n 5"
      ],
      "execution_count": null,
      "outputs": [
        {
          "output_type": "stream",
          "text": [
            "CERS,SS,NEW,2,756,2.400000,2.340000,2.45000006/1406/191706149900003,09:30:CustSS\r\n",
            "CERS,SS,NEW,100,2.36000018422.360000,2.37000006/1406/191706149900003,10:20:ContraSSFREX\r\n",
            "CERS,SS,NEW,200,2.350000,2.360000,2.37000006/1406/191706149900003,10:20:ContraSSFREX\r\n",
            "CERS,SS,NEW,100,2.350000,2.350000,2.36000006/1406/191706149900003,10:20:ContraSSFREX\r\n",
            "CERS,SS,NEW,100,2.350000,2.350000,2.36000006/1406/191706149900003,10:22:ContraSSFREX\r\n"
          ],
          "name": "stdout"
        }
      ]
    },
    {
      "cell_type": "markdown",
      "metadata": {
        "id": "Uooted-EoFeM"
      },
      "source": [
        "<h2> <font color='red'> Exercise 3 </font></h2>\n",
        "\n",
        "Write the content from <font color='red'> Exercise 2 </font> into a csv file titled `example3.csv`, then use `cat` piped into `head` to check the result."
      ]
    },
    {
      "cell_type": "code",
      "metadata": {
        "id": "CbRT4Gn8oFeM"
      },
      "source": [
        "with open('example3.csv','w') as outfile:\n",
        "    outfile.write(csv_content2)"
      ],
      "execution_count": null,
      "outputs": []
    },
    {
      "cell_type": "code",
      "metadata": {
        "id": "A0Tsuk7ooFeQ",
        "outputId": "14e74a95-822f-4aef-82b1-683cd6a46b0f"
      },
      "source": [
        "!cat example3.csv | head -n 5"
      ],
      "execution_count": null,
      "outputs": [
        {
          "output_type": "stream",
          "text": [
            "SS,NEW\r\n",
            "SS,NEW\r\n",
            "SS,NEW\r\n",
            "SS,NEW\r\n",
            "SS,NEW\r\n"
          ],
          "name": "stdout"
        }
      ]
    },
    {
      "cell_type": "code",
      "metadata": {
        "id": "PqWTvggsoFeT"
      },
      "source": [
        ""
      ],
      "execution_count": null,
      "outputs": []
    }
  ]
}