{
  "nbformat": 4,
  "nbformat_minor": 0,
  "metadata": {
    "celltoolbar": "Slideshow",
    "kernelspec": {
      "display_name": "Python 3",
      "language": "python",
      "name": "python3"
    },
    "language_info": {
      "codemirror_mode": {
        "name": "ipython",
        "version": 3
      },
      "file_extension": ".py",
      "mimetype": "text/x-python",
      "name": "python",
      "nbconvert_exporter": "python",
      "pygments_lexer": "ipython3",
      "version": "3.7.6"
    },
    "varInspector": {
      "cols": {
        "lenName": 16,
        "lenType": 16,
        "lenVar": 40
      },
      "kernels_config": {
        "python": {
          "delete_cmd_postfix": "",
          "delete_cmd_prefix": "del ",
          "library": "var_list.py",
          "varRefreshCmd": "print(var_dic_list())"
        },
        "r": {
          "delete_cmd_postfix": ") ",
          "delete_cmd_prefix": "rm(",
          "library": "var_list.r",
          "varRefreshCmd": "cat(var_dic_list()) "
        }
      },
      "types_to_exclude": [
        "module",
        "function",
        "builtin_function_or_method",
        "instance",
        "_Feature"
      ],
      "window_display": false
    },
    "colab": {
      "name": "lecture_4_2_folding_data_with_the_accumulator_pattern.ipynb",
      "provenance": [],
      "include_colab_link": true
    }
  },
  "cells": [
    {
      "cell_type": "markdown",
      "metadata": {
        "id": "view-in-github",
        "colab_type": "text"
      },
      "source": [
        "<a href=\"https://colab.research.google.com/github/dcmdillon/module_4_lectures_my_work/blob/master/lecture_4_2_folding_data_with_the_accumulator_pattern.ipynb\" target=\"_parent\"><img src=\"https://colab.research.google.com/assets/colab-badge.svg\" alt=\"Open In Colab\"/></a>"
      ]
    },
    {
      "cell_type": "markdown",
      "metadata": {
        "id": "fIOZtvawnvuy"
      },
      "source": [
        "## The Accumulator Pattern"
      ]
    },
    {
      "cell_type": "markdown",
      "metadata": {
        "id": "ZjCJwlrSnvuz"
      },
      "source": [
        "## The accumulator pattern\n",
        "\n",
        "* For turning a sequence into a value\n",
        "    * e.g. Computing statistics\n",
        "* Uses\n",
        "    * A `for` loop\n",
        "    * An accumulation variable\n",
        "    * Update step"
      ]
    },
    {
      "cell_type": "markdown",
      "metadata": {
        "id": "uN0r4ecMnvu0"
      },
      "source": [
        "## Example 1 - The mean of a random variable"
      ]
    },
    {
      "cell_type": "code",
      "metadata": {
        "id": "m9yHhkzenvu1"
      },
      "source": [
        "from random import gammavariate\n",
        "#help(gammavariate)"
      ],
      "execution_count": null,
      "outputs": []
    },
    {
      "cell_type": "code",
      "metadata": {
        "id": "Tg_wiXfvnvu5",
        "outputId": "fd7e8723-52bd-46ef-86e1-b37cf05ab285"
      },
      "source": [
        "N = 1000000\n",
        "trials = [gammavariate(2,3) for i in range(N)]\n",
        "trials[:5]"
      ],
      "execution_count": null,
      "outputs": [
        {
          "output_type": "execute_result",
          "data": {
            "text/plain": [
              "[0.688955109096205,\n",
              " 2.1880342860688073,\n",
              " 3.2286473096768065,\n",
              " 5.458296933173954,\n",
              " 2.306790567021267]"
            ]
          },
          "metadata": {
            "tags": []
          },
          "execution_count": 3
        }
      ]
    },
    {
      "cell_type": "markdown",
      "metadata": {
        "id": "QuUChA3Invu9"
      },
      "source": [
        "## Accumulating the mean\n",
        "\n",
        "Keep track of\n",
        "\n",
        "* current sum\n",
        "* current count"
      ]
    },
    {
      "cell_type": "code",
      "metadata": {
        "id": "0Wl0idI6nvu9",
        "outputId": "ffd94973-39c6-4886-a2a3-2cc974ee15ce"
      },
      "source": [
        "cnt = 0 # Count for an empty list\n",
        "tot = 0 # Total for an empty list\n",
        "for trial in trials:\n",
        "    cnt = cnt + 1 # Update the count\n",
        "    tot = tot + trial # Update the total\n",
        "mean = tot/cnt\n",
        "mean"
      ],
      "execution_count": null,
      "outputs": [
        {
          "output_type": "execute_result",
          "data": {
            "text/plain": [
              "5.994037381867636"
            ]
          },
          "metadata": {
            "tags": []
          },
          "execution_count": 5
        }
      ]
    },
    {
      "cell_type": "markdown",
      "metadata": {
        "id": "ex_oZrYtnvvB"
      },
      "source": [
        "## Example 2 -- Checking membership.\n",
        "\n",
        "Suppose we have a sequence `L` and a value `val`.  We want to write a program to determine if `val` is contained in `L` at least once.  We can do this with the accumulator pattern."
      ]
    },
    {
      "cell_type": "code",
      "metadata": {
        "id": "1-3cC_aznvvB",
        "outputId": "74bc2d9b-30e1-44fd-f905-61131ac504fa"
      },
      "source": [
        "from string import ascii_lowercase\n",
        "val = \"d\"\n",
        "val, ascii_lowercase"
      ],
      "execution_count": null,
      "outputs": [
        {
          "output_type": "execute_result",
          "data": {
            "text/plain": [
              "('d', 'abcdefghijklmnopqrstuvwxyz')"
            ]
          },
          "metadata": {
            "tags": []
          },
          "execution_count": 16
        }
      ]
    },
    {
      "cell_type": "code",
      "metadata": {
        "id": "sfqY9DWnnvvF",
        "outputId": "19610c3d-b9ca-4b5f-d3ef-75a5fd6282c2"
      },
      "source": [
        "is_member = False # Membership for an empty list\n",
        "for ch in ascii_lowercase:\n",
        "    is_member = val == ch or is_member# This ch matches OR we already matched\n",
        "    print(val, ch, is_member)\n",
        "is_member"
      ],
      "execution_count": null,
      "outputs": [
        {
          "output_type": "stream",
          "text": [
            "d a False\n",
            "d b False\n",
            "d c False\n",
            "d d True\n",
            "d e True\n",
            "d f True\n",
            "d g True\n",
            "d h True\n",
            "d i True\n",
            "d j True\n",
            "d k True\n",
            "d l True\n",
            "d m True\n",
            "d n True\n",
            "d o True\n",
            "d p True\n",
            "d q True\n",
            "d r True\n",
            "d s True\n",
            "d t True\n",
            "d u True\n",
            "d v True\n",
            "d w True\n",
            "d x True\n",
            "d y True\n",
            "d z True\n"
          ],
          "name": "stdout"
        },
        {
          "output_type": "execute_result",
          "data": {
            "text/plain": [
              "True"
            ]
          },
          "metadata": {
            "tags": []
          },
          "execution_count": 17
        }
      ]
    },
    {
      "cell_type": "code",
      "metadata": {
        "id": "gHE9uBG3nvvI",
        "outputId": "6bd7cddd-095b-4575-ac77-ac35e396e7c7"
      },
      "source": [
        "from string import ascii_lowercase\n",
        "val = \"µ\"\n",
        "val, ascii_lowercase"
      ],
      "execution_count": null,
      "outputs": [
        {
          "output_type": "execute_result",
          "data": {
            "text/plain": [
              "('µ', 'abcdefghijklmnopqrstuvwxyz')"
            ]
          },
          "metadata": {
            "tags": []
          },
          "execution_count": 4
        }
      ]
    },
    {
      "cell_type": "code",
      "metadata": {
        "id": "ppRK0KSknvvL",
        "outputId": "133bf1b6-c16b-49f7-e041-4dba34478f81"
      },
      "source": [
        "is_member = False # Membership for an empty list\n",
        "for ch in ascii_lowercase:\n",
        "    is_member = val == ch or is_member \n",
        "    print(val, ch, is_member)\n",
        "is_member"
      ],
      "execution_count": null,
      "outputs": [
        {
          "output_type": "stream",
          "text": [
            "µ a False\n",
            "µ b False\n",
            "µ c False\n",
            "µ d False\n",
            "µ e False\n",
            "µ f False\n",
            "µ g False\n",
            "µ h False\n",
            "µ i False\n",
            "µ j False\n",
            "µ k False\n",
            "µ l False\n",
            "µ m False\n",
            "µ n False\n",
            "µ o False\n",
            "µ p False\n",
            "µ q False\n",
            "µ r False\n",
            "µ s False\n",
            "µ t False\n",
            "µ u False\n",
            "µ v False\n",
            "µ w False\n",
            "µ x False\n",
            "µ y False\n",
            "µ z False\n"
          ],
          "name": "stdout"
        },
        {
          "output_type": "execute_result",
          "data": {
            "text/plain": [
              "False"
            ]
          },
          "metadata": {
            "tags": []
          },
          "execution_count": 5
        }
      ]
    },
    {
      "cell_type": "markdown",
      "metadata": {
        "id": "xt_moavXnvvQ"
      },
      "source": [
        "## The accumulator pattern\n",
        "\n",
        "<img src=\"https://github.com/dcmdillon/module_4_lectures_my_work/blob/master/img/accum.png?raw=1\"/>"
      ]
    },
    {
      "cell_type": "markdown",
      "metadata": {
        "id": "sflOiKmOnvvQ"
      },
      "source": [
        "<font color=\"red\"><h2> Exercise 4.2.1 </h2></font>\n",
        "\n",
        "The variance of a random variable is the average squared distance to the mean.  We can estimate the variance of a random variable using a simulation with large number of trials.\n",
        "\n",
        "Do this by ..."
      ]
    },
    {
      "cell_type": "markdown",
      "metadata": {
        "id": "-QpA2Yz-nvvR"
      },
      "source": [
        "#### Use a list comp. to compute a list of squared distances to the mean."
      ]
    },
    {
      "cell_type": "code",
      "metadata": {
        "id": "H_dSfbHenvvS"
      },
      "source": [
        "import random as rd\n",
        "N = 100\n",
        "squares = [pow(rd.gauss(4,1.5),2) for i in range(N)]"
      ],
      "execution_count": null,
      "outputs": []
    },
    {
      "cell_type": "markdown",
      "metadata": {
        "id": "ouOKMpLKnvvU"
      },
      "source": [
        "#### Use the accumulator pattern to get the count and total squared distance"
      ]
    },
    {
      "cell_type": "code",
      "metadata": {
        "id": "7kTMK_5GnvvV",
        "outputId": "a3b29769-1fe8-46f0-f20e-353b887acaf0"
      },
      "source": [
        "cnt = 0\n",
        "total=0\n",
        "for num in squares:\n",
        "    cnt+= 1\n",
        "    total += num\n",
        "    \n",
        "print(cnt)\n",
        "print(total)"
      ],
      "execution_count": null,
      "outputs": [
        {
          "output_type": "stream",
          "text": [
            "100\n",
            "1793.4980095308695\n"
          ],
          "name": "stdout"
        }
      ]
    },
    {
      "cell_type": "markdown",
      "metadata": {
        "id": "kAqnZjXwnvvX"
      },
      "source": [
        "#### Compute the variance\n",
        "\n",
        "$$variance = \\frac{\\text{Total Sqr Dist}}{\\text{Num Trials}}$$"
      ]
    },
    {
      "cell_type": "code",
      "metadata": {
        "id": "XKJuuGWnnvvX",
        "outputId": "3a87c773-a978-4384-c32b-4feb17f9a571"
      },
      "source": [
        "v= total/cnt\n",
        "print(v)"
      ],
      "execution_count": null,
      "outputs": [
        {
          "output_type": "stream",
          "text": [
            "17.934980095308696\n"
          ],
          "name": "stdout"
        }
      ]
    },
    {
      "cell_type": "code",
      "metadata": {
        "id": "uB8jL8KSnvva"
      },
      "source": [
        ""
      ],
      "execution_count": null,
      "outputs": []
    }
  ]
}