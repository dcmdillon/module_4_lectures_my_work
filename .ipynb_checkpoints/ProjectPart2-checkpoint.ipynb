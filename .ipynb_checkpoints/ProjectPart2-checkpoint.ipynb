{
 "cells": [
  {
   "cell_type": "code",
   "execution_count": 2,
   "metadata": {},
   "outputs": [
    {
     "data": {
      "text/plain": [
       "['CERS SS NEW 2,756 2.400000 2.340000 2.45000006/1406/191706149900003 09:30:CustSS',\n",
       " '/17 /17 256945 00',\n",
       " '0704 PerUnit TERM 0.010000 AABBC 1706149900003#STA=GSCO',\n",
       " 'CERS SS NEW 100 2.36000018422.360000 2.37000006/1406/191706149900003 10:20:ContraSSFREX',\n",
       " '/17 /17 866087 04',\n",
       " '0704 PerUnit TERM 0.010000 AABBC 1706149900003#STA=CERS',\n",
       " '854300',\n",
       " 'CERS SS NEW 200 2.350000 2.360000 2.37000006/1406/191706149900003 10:20:ContraSSFREX',\n",
       " '/17 /17 866096 04',\n",
       " '0704 PerUnit TERM 0.010000 AABBC 1706149900003#STA=CERS']"
      ]
     },
     "execution_count": 2,
     "metadata": {},
     "output_type": "execute_result"
    }
   ],
   "source": [
    "from composable import pipeable\n",
    "import re\n",
    "\n",
    "\n",
    "with open('sell_short_trades.txt') as f:\n",
    "    lines = f.readlines()\n",
    "\n",
    "\n",
    "pageNumRegex = re.compile(\"\\d+ of \\d+\")    \n",
    "is_page_num_line = lambda l: bool(pageNumRegex.match(l))\n",
    "\n",
    "colNames1Regex = re.compile(\"Symbol\")    \n",
    "is_col_name1 = lambda l: bool(colNames1Regex.match(l))\n",
    "\n",
    "colNames2Regex = re.compile(\"TradeCommType\")    \n",
    "is_col_name2 = lambda l: bool(colNames2Regex.match(l))\n",
    "\n",
    "remove_whitespace = pipeable(lambda s: [l.strip() for l in s if l.strip() != ''])    \n",
    "remove_pagenums =   pipeable(lambda s: [l for l in s if not  is_page_num_line(l)])\n",
    "remove_head_and_foot = pipeable(lambda s: s[3:-2])\n",
    "remove_col_names = pipeable(lambda s: [l for l in s if not (is_col_name1(l) or is_col_name2(l))])\n",
    "remove_extra_spaces = pipeable(lambda s: [re.sub('\\s+',' ', l) for l in s])\n",
    "    \n",
    "data_lines = (lines\n",
    " >>remove_whitespace()\n",
    " >>remove_pagenums()\n",
    " >>remove_head_and_foot()\n",
    " >>remove_col_names()\n",
    " >>remove_extra_spaces()\n",
    ")\n",
    "data_lines[:10]"
   ]
  },
  {
   "cell_type": "code",
   "execution_count": 3,
   "metadata": {},
   "outputs": [
    {
     "data": {
      "text/plain": [
       "['CERS SS NEW 2,756 2.400000 2.340000 2.45000006/1406/191706149900003 09:30:CustSS /17 /17 256945 00 0704 PerUnit TERM 0.010000 AABBC 1706149900003#STA=GSCO',\n",
       " 'CERS SS NEW 100 2.36000018422.360000 2.37000006/1406/191706149900003 10:20:ContraSSFREX /17 /17 866087 04 0704 PerUnit TERM 0.010000 AABBC 1706149900003#STA=CERS 854300',\n",
       " 'CERS SS NEW 200 2.350000 2.360000 2.37000006/1406/191706149900003 10:20:ContraSSFREX /17 /17 866096 04 0704 PerUnit TERM 0.010000 AABBC 1706149900003#STA=CERS 854300']"
      ]
     },
     "execution_count": 3,
     "metadata": {},
     "output_type": "execute_result"
    }
   ],
   "source": [
    "#get either the first for or 3 lines depending on if the fourth is the start of a new line,\n",
    "#as well as a count of how many you got\n",
    "def get_layer(l):\n",
    "    \n",
    "    l4 = 0\n",
    "    \n",
    "    if(len(l) >3):\n",
    "        l4 = len(l[3])\n",
    "    \n",
    "    \n",
    "    if(l4 > 8):\n",
    "        return \" \".join(l[:3]), 3\n",
    "    else:\n",
    "        return \" \".join(l[:4]), 4\n",
    "\n",
    "\n",
    "full_lines = []\n",
    "\n",
    "#loop through and add concatinated lines to output   \n",
    "while(len(data_lines) != 0):\n",
    "    fl , i = get_layer(data_lines)\n",
    "    full_lines.append(fl)\n",
    "    data_lines = data_lines[i:]\n",
    "    \n",
    "full_lines[:3]\n"
   ]
  },
  {
   "cell_type": "code",
   "execution_count": 41,
   "metadata": {},
   "outputs": [],
   "source": [
    "#Join the lines and write out to file\n",
    "content = \"\\n\".join(full_lines)\n",
    "\n",
    "with open('sell_short_data.txt','w') as outfile:\n",
    "    outfile.write(content)\n",
    "\n"
   ]
  }
 ],
 "metadata": {
  "kernelspec": {
   "display_name": "Python 3",
   "language": "python",
   "name": "python3"
  },
  "language_info": {
   "codemirror_mode": {
    "name": "ipython",
    "version": 3
   },
   "file_extension": ".py",
   "mimetype": "text/x-python",
   "name": "python",
   "nbconvert_exporter": "python",
   "pygments_lexer": "ipython3",
   "version": "3.7.6"
  }
 },
 "nbformat": 4,
 "nbformat_minor": 4
}
