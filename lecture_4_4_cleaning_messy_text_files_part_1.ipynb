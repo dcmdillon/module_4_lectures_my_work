{
  "nbformat": 4,
  "nbformat_minor": 0,
  "metadata": {
    "kernelspec": {
      "display_name": "Python 3",
      "language": "python",
      "name": "python3"
    },
    "language_info": {
      "codemirror_mode": {
        "name": "ipython",
        "version": 3
      },
      "file_extension": ".py",
      "mimetype": "text/x-python",
      "name": "python",
      "nbconvert_exporter": "python",
      "pygments_lexer": "ipython3",
      "version": "3.7.6"
    },
    "colab": {
      "name": "lecture_4_4_cleaning_messy_text_files_part_1.ipynb",
      "provenance": [],
      "include_colab_link": true
    }
  },
  "cells": [
    {
      "cell_type": "markdown",
      "metadata": {
        "id": "view-in-github",
        "colab_type": "text"
      },
      "source": [
        "<a href=\"https://colab.research.google.com/github/dcmdillon/module_4_lectures_my_work/blob/master/lecture_4_4_cleaning_messy_text_files_part_1.ipynb\" target=\"_parent\"><img src=\"https://colab.research.google.com/assets/colab-badge.svg\" alt=\"Open In Colab\"/></a>"
      ]
    },
    {
      "cell_type": "markdown",
      "metadata": {
        "id": "IC1hKe02o-tf"
      },
      "source": [
        "# Lecture 4.4 - Basics of cleaning messy text files \n",
        "## Part 1 - Getting the know the file and removing unwanted lines\n",
        "\n",
        "In this lecture, we will go over a number of cases of messy data, and how to use Python to fix these problems.  This includes\n",
        "\n",
        "1. Use VSCode to inspect the file and identify problems.\n",
        "1. Removing unwanted lines."
      ]
    },
    {
      "cell_type": "markdown",
      "metadata": {
        "id": "GOiOdOmno-tg"
      },
      "source": [
        "## Example - 9/11 Deaths \n",
        "\n",
        "I have included a file named `911_Deaths.csv`.  Download this file from D2L and open it in VScode.  Be sure to turn on **View > Render Whitespace**, which I find useful when working with messy data."
      ]
    },
    {
      "cell_type": "markdown",
      "metadata": {
        "id": "oHN32ufDo-tg"
      },
      "source": [
        "> Your answer here"
      ]
    },
    {
      "cell_type": "markdown",
      "metadata": {
        "id": "HdbGxUKbo-th"
      },
      "source": [
        "## Reading in the lines of the file\n",
        "\n",
        "I have included a file named `911_Deaths.csv`.  Open this file and split the body into a list called `lines`."
      ]
    },
    {
      "cell_type": "code",
      "metadata": {
        "id": "_0C8XWkio-ti"
      },
      "source": [
        "import composable"
      ],
      "execution_count": null,
      "outputs": []
    },
    {
      "cell_type": "code",
      "metadata": {
        "id": "lDgXZhOOo-tl"
      },
      "source": [
        "with open('911_Deaths.csv') as f:\n",
        "    lines = f.readlines()"
      ],
      "execution_count": null,
      "outputs": []
    },
    {
      "cell_type": "markdown",
      "metadata": {
        "id": "zpEaCiFro-tq"
      },
      "source": [
        "## Step 1: Remove any extraneous lines"
      ]
    },
    {
      "cell_type": "code",
      "metadata": {
        "id": "no9CWcjgo-tr",
        "outputId": "cb339c56-0ffe-41a8-d7ec-376f8e197046"
      },
      "source": [
        "example_w_extra = lines[96:107]\n",
        "example_w_extra"
      ],
      "execution_count": null,
      "outputs": [
        {
          "output_type": "execute_result",
          "data": {
            "text/plain": [
              "['Terrance Andre Aiken\\n',\n",
              " ' 30\\n',\n",
              " ' Marsh&McLennan consultant, World Trade Center.\\n',\n",
              " '\\n',\n",
              " '\\n',\n",
              " '\\t\\t\\t\\t\\t\\t\\t\\t\\t\\t1 of 91\\n',\n",
              " '\\n',\n",
              " '\\n',\n",
              " 'Godwin O. Ajala\\n',\n",
              " ' 33\\n',\n",
              " ' Summit Security Services, Inc., World Trade Center, died 9/15/01.\\n']"
            ]
          },
          "metadata": {
            "tags": []
          },
          "execution_count": 4
        }
      ]
    },
    {
      "cell_type": "markdown",
      "metadata": {
        "id": "m-_W2fR5o-tu"
      },
      "source": [
        "## Methods for removing extra lines.\n",
        "\n",
        "* `strip` and check for a length of 0\n",
        "* Check if some substring is `in` the line.\n",
        "* Create a regular expression to match the line type"
      ]
    },
    {
      "cell_type": "markdown",
      "metadata": {
        "id": "iBbsxGTRo-tv"
      },
      "source": [
        "<h2> <font color=\"red\"> Exercise 4.4.2 </font> </h2>\n",
        "\n",
        "Rewrite a predicate function (i.e. Boolean lambda) called `is_blank` that returns `True` for blank lines and `False` otherwise."
      ]
    },
    {
      "cell_type": "code",
      "metadata": {
        "id": "hDGIOKxJo-tw",
        "outputId": "abfd5683-3819-4295-ab9e-47dfdc2f7bfe"
      },
      "source": [
        "example_blank_line = lines[99]\n",
        "example_blank_line"
      ],
      "execution_count": null,
      "outputs": [
        {
          "output_type": "execute_result",
          "data": {
            "text/plain": [
              "'\\n'"
            ]
          },
          "metadata": {
            "tags": []
          },
          "execution_count": 5
        }
      ]
    },
    {
      "cell_type": "code",
      "metadata": {
        "scrolled": true,
        "id": "B4dJovFDo-t1",
        "outputId": "6a4edf31-4af8-4321-fb48-9046e9f89c98"
      },
      "source": [
        "is_blank = lambda l: len(l.strip()) == 0\n",
        "is_blank(lines[99])"
      ],
      "execution_count": null,
      "outputs": [
        {
          "output_type": "execute_result",
          "data": {
            "text/plain": [
              "True"
            ]
          },
          "metadata": {
            "tags": []
          },
          "execution_count": 6
        }
      ]
    },
    {
      "cell_type": "markdown",
      "metadata": {
        "id": "-icVC1Ddo-t4"
      },
      "source": [
        "<h2> <font color=\"red\"> Exercise 4.4.3 </font> </h2>\n",
        "\n",
        "Rewrite a predicate function called `is_page_num_line` that returns `True` for the page number lines and `False` otherwise."
      ]
    },
    {
      "cell_type": "code",
      "metadata": {
        "id": "yhEYMZGYo-t4",
        "outputId": "822fd87f-e7fc-42b8-e0dc-096af7b733ef"
      },
      "source": [
        "example_page_num_line = lines[101]\n",
        "example_page_num_line"
      ],
      "execution_count": null,
      "outputs": [
        {
          "output_type": "execute_result",
          "data": {
            "text/plain": [
              "'\\t\\t\\t\\t\\t\\t\\t\\t\\t\\t1 of 91\\n'"
            ]
          },
          "metadata": {
            "tags": []
          },
          "execution_count": 7
        }
      ]
    },
    {
      "cell_type": "code",
      "metadata": {
        "id": "lcDtKlxio-t8",
        "outputId": "15562f39-1e7b-49be-dba2-bef059a15f2f"
      },
      "source": [
        "is_page_num_line = lambda lt: [True if w.startswith(\"\\t\\t\\t\\t\\t\\t\\t\\t\\t\\t\") else False for w in lt]\n",
        "is_page_num_line(lines[96:107])"
      ],
      "execution_count": null,
      "outputs": [
        {
          "output_type": "execute_result",
          "data": {
            "text/plain": [
              "[False, False, False, False, False, True, False, False, False, False, False]"
            ]
          },
          "metadata": {
            "tags": []
          },
          "execution_count": 8
        }
      ]
    },
    {
      "cell_type": "markdown",
      "metadata": {
        "id": "aZ9L4Ukzo-t_"
      },
      "source": [
        "<h2> <font color=\"red\"> Exercise 4.4.4 </font> </h2>\n",
        "\n",
        "Identify some situation were your approach might fail."
      ]
    },
    {
      "cell_type": "markdown",
      "metadata": {
        "id": "wt_AiBiYo-t_"
      },
      "source": [
        "> if the number of \\t changes"
      ]
    },
    {
      "cell_type": "markdown",
      "metadata": {
        "id": "NRsLKTMMo-uA"
      },
      "source": [
        "## Be as specific as possible\n",
        "\n",
        "When removing lines, be very specific so you don't lose data!"
      ]
    },
    {
      "cell_type": "markdown",
      "metadata": {
        "id": "45J8u4bGo-uA"
      },
      "source": [
        "<h2> <font color=\"red\"> Exercise 4.4.5 </font> </h2>\n",
        "\n",
        "Complete the following steps."
      ]
    },
    {
      "cell_type": "markdown",
      "metadata": {
        "id": "7eXOEOaRo-uB"
      },
      "source": [
        "#### Describe the pattern in words"
      ]
    },
    {
      "cell_type": "code",
      "metadata": {
        "id": "YeC4Lf_Ko-uC",
        "outputId": "bda796f4-a004-4a6e-adc9-062ef853b627"
      },
      "source": [
        "example_page_num_line = lines[101]\n",
        "example_page_num_line"
      ],
      "execution_count": null,
      "outputs": [
        {
          "output_type": "execute_result",
          "data": {
            "text/plain": [
              "'\\t\\t\\t\\t\\t\\t\\t\\t\\t\\t1 of 91\\n'"
            ]
          },
          "metadata": {
            "tags": []
          },
          "execution_count": 9
        }
      ]
    },
    {
      "cell_type": "markdown",
      "metadata": {
        "id": "qV_Db6--o-uG"
      },
      "source": [
        "> a number of \\t's followed by {page number} of {total pages} folowed by \\n"
      ]
    },
    {
      "cell_type": "markdown",
      "metadata": {
        "id": "4emOvax-o-uG"
      },
      "source": [
        "#### Write a regular expression to `match` the problem"
      ]
    },
    {
      "cell_type": "code",
      "metadata": {
        "id": "8vU8yZxMo-uH"
      },
      "source": [
        "import re\n",
        "pattern = \"\\t+\\d+ of \\d+\"\n",
        "regex = re.compile(pattern)\n",
        "test = regex.match(example_page_num_line)\n",
        "is_page_num_line = lambda l: bool(regex.match(l))"
      ],
      "execution_count": null,
      "outputs": []
    },
    {
      "cell_type": "markdown",
      "metadata": {
        "id": "8WWXBaILo-uJ"
      },
      "source": [
        "#### Why is `match` better than `search` for this task?"
      ]
    },
    {
      "cell_type": "markdown",
      "metadata": {
        "id": "Vjn_Epi3o-uK"
      },
      "source": [
        "> looks to see if it starts with that data, avoid deleting a strange enty that is just similar"
      ]
    },
    {
      "cell_type": "markdown",
      "metadata": {
        "id": "zW380PKBo-uK"
      },
      "source": [
        "## Combining the two predicate functions"
      ]
    },
    {
      "cell_type": "code",
      "metadata": {
        "id": "R8XFPFsBo-uL"
      },
      "source": [
        "needs_removal = lambda l: is_blank(l) or is_page_num_line(l)"
      ],
      "execution_count": null,
      "outputs": []
    },
    {
      "cell_type": "code",
      "metadata": {
        "id": "d7t9GVCSo-uO",
        "outputId": "52983dab-712f-4b54-fb3b-d5b50517de41"
      },
      "source": [
        "[(l, needs_removal(l)) for l in example_w_extra ]"
      ],
      "execution_count": null,
      "outputs": [
        {
          "output_type": "execute_result",
          "data": {
            "text/plain": [
              "[('Terrance Andre Aiken\\n', False),\n",
              " (' 30\\n', False),\n",
              " (' Marsh&McLennan consultant, World Trade Center.\\n', False),\n",
              " ('\\n', True),\n",
              " ('\\n', True),\n",
              " ('\\t\\t\\t\\t\\t\\t\\t\\t\\t\\t1 of 91\\n', True),\n",
              " ('\\n', True),\n",
              " ('\\n', True),\n",
              " ('Godwin O. Ajala\\n', False),\n",
              " (' 33\\n', False),\n",
              " (' Summit Security Services, Inc., World Trade Center, died 9/15/01.\\n',\n",
              "  False)]"
            ]
          },
          "metadata": {
            "tags": []
          },
          "execution_count": 12
        }
      ]
    },
    {
      "cell_type": "markdown",
      "metadata": {
        "id": "OgYsPULno-uT"
      },
      "source": [
        "#### Removing the extraneous lines"
      ]
    },
    {
      "cell_type": "code",
      "metadata": {
        "scrolled": true,
        "id": "lQoHnWWIo-uU",
        "outputId": "9ea1e43e-66f5-4a3a-b111-df815dba3e7b"
      },
      "source": [
        "culled_lines = [l for l in lines if not needs_removal(l)]\n",
        "culled_lines[:100]"
      ],
      "execution_count": null,
      "outputs": [
        {
          "output_type": "execute_result",
          "data": {
            "text/plain": [
              "['Gordon M. Aamoth, Jr.\\n',\n",
              " ' 32\\n',\n",
              " \" Sandler O'Neill + Partners, World Trade Center.\\n\",\n",
              " 'Edelmiro Abad\\n',\n",
              " ' 54\\n',\n",
              " ' Brooklyn, N.Y., Fiduciary Trust Company International, World Trade Center.\\n',\n",
              " 'Marie Rose Abad\\n',\n",
              " ' 49\\n',\n",
              " ' Keefe, Bruyette&Woods, Inc., World Trade Center.\\n',\n",
              " 'Andrew Anthony Abate\\n',\n",
              " ' 37\\n',\n",
              " ' Melville, N.Y., Cantor Fitzgerald, World Trade Center.\\n',\n",
              " 'Vincent Paul Abate\\n',\n",
              " ' 40\\n',\n",
              " ' Brooklyn, N.Y., Cantor Fitzgerald, World Trade Center.\\n',\n",
              " 'Laurence Christopher Abel\\n',\n",
              " ' 37\\n',\n",
              " ' New York City, Cantor Fitzgerald, World Trade Center.\\n',\n",
              " 'Alona Abraham\\n',\n",
              " ' 30\\n',\n",
              " ' Ashdod, Israel, Passenger, United 175, World Trade Center.\\n',\n",
              " 'William F. Abrahamson\\n',\n",
              " ' 55\\n',\n",
              " ' Westchester County, N.Y., Marsh&McLennan Companies, Inc., World Trade Center.\\n',\n",
              " 'Richard Anthony Aceto\\n',\n",
              " ' 42\\n',\n",
              " ' Marsh&McLennan Companies, Inc., World Trade Center.\\n',\n",
              " 'Heinrich Bernhard Ackermann\\n',\n",
              " ' 38\\n',\n",
              " ' Aon Corporation, World Trade Center.\\n',\n",
              " 'Paul Acquaviva\\n',\n",
              " ' 29\\n',\n",
              " ' Glen Rock, N.J., Cantor Fitzgerald, World Trade Center.\\n',\n",
              " 'Christian Adams\\n',\n",
              " ' 37\\n',\n",
              " ' Passenger, United 93, Shanksville, Pa.\\n',\n",
              " 'Donald LaRoy Adams\\n',\n",
              " ' 28\\n',\n",
              " ' Cantor Fitzgerald, World Trade Center.\\n',\n",
              " 'Patrick Adams\\n',\n",
              " ' 61\\n',\n",
              " ' Fuji Bank, Ltd. security, World Trade Center.\\n',\n",
              " 'Shannon Lewis Adams\\n',\n",
              " ' 25\\n',\n",
              " ' Cantor Fitzgerald, World Trade Center.\\n',\n",
              " 'Stephen George Adams\\n',\n",
              " ' 51\\n',\n",
              " ' New York City, Windows on the World, World Trade Center.\\n',\n",
              " 'Ignatius Udo Adanga\\n',\n",
              " ' 62\\n',\n",
              " ' Bronx, N.Y., New York Metropolitan Transportation Council, World Trade Center.\\n',\n",
              " 'Christy A. Addamo\\n',\n",
              " ' 28\\n',\n",
              " ' New Hyde Park, N.Y., Marsh&McLennan Companies, Inc., World Trade Center.\\n',\n",
              " 'Terence Edward Adderley, Jr.\\n',\n",
              " ' 22\\n',\n",
              " ' New York City, Fred Alger Management, Inc., World Trade Center.\\n',\n",
              " 'Sophia B. Addo\\n',\n",
              " ' 36\\n',\n",
              " ' Bronx, N.Y., Windows on the World, World Trade Center.\\n',\n",
              " 'Lee Adler\\n',\n",
              " ' 48\\n',\n",
              " ' Cantor Fitzgerald, World Trade Center.\\n',\n",
              " 'Daniel Thomas Afflitto\\n',\n",
              " ' 32\\n',\n",
              " ' Manalapan, N.J., Cantor Fitzgerald, World Trade Center.\\n',\n",
              " 'Emmanuel Akwasi Afuakwah\\n',\n",
              " ' 37\\n',\n",
              " ' Windows on the World, World Trade Center.\\n',\n",
              " 'Alok Agarwal\\n',\n",
              " ' 36\\n',\n",
              " ' Cantor Fitzgerald, World Trade Center.\\n',\n",
              " 'Mukul Kumar Agarwala\\n',\n",
              " ' 37\\n',\n",
              " ' Fiduciary Trust Company International, World Trade Center.\\n',\n",
              " 'Joseph Agnello\\n',\n",
              " ' 35\\n',\n",
              " ' Belle Harbor, N.Y., New York City Fire Department, World Trade Center.\\n',\n",
              " 'David Scott Agnes\\n',\n",
              " ' 46\\n',\n",
              " ' Port Washington, N.Y., Cantor Fitzgerald, World Trade Center.\\n',\n",
              " 'Joao Alberto da Fonseca Aguiar, Jr.\\n',\n",
              " ' 30\\n',\n",
              " ' Hoboken, N.J., Keefe, Bruyette&Woods, Inc., World Trade Center.\\n',\n",
              " 'Brian G. Ahearn\\n',\n",
              " ' 43\\n',\n",
              " ' Huntington, N.Y., New York City Fire Department, World Trade Center.\\n',\n",
              " 'Jeremiah Joseph Ahern\\n',\n",
              " ' 74\\n',\n",
              " ' New Jersey, New York State Department of Taxation and Finance, World Trade Center.\\n',\n",
              " 'Joanne Marie Ahladiotis\\n',\n",
              " ' 27\\n',\n",
              " ' Forest Hills, N.Y., Cantor Fitzgerald, World Trade Center.\\n',\n",
              " 'Shabbir Ahmed\\n',\n",
              " ' 47\\n',\n",
              " ' Brooklyn, N.Y., Windows on the World, World Trade Center.\\n',\n",
              " 'Terrance Andre Aiken\\n',\n",
              " ' 30\\n',\n",
              " ' Marsh&McLennan consultant, World Trade Center.\\n',\n",
              " 'Godwin O. Ajala\\n']"
            ]
          },
          "metadata": {
            "tags": []
          },
          "execution_count": 13
        }
      ]
    },
    {
      "cell_type": "code",
      "metadata": {
        "scrolled": true,
        "id": "4MdUCthTo-uX",
        "outputId": "353052e8-120b-4421-8bde-01d3673fcc96"
      },
      "source": [
        "keep_line = lambda l: not needs_removal(l)\n",
        "culled_lines = [l for l in lines if keep_line(l)]\n",
        "culled_lines[:100]"
      ],
      "execution_count": null,
      "outputs": [
        {
          "output_type": "execute_result",
          "data": {
            "text/plain": [
              "['Gordon M. Aamoth, Jr.\\n',\n",
              " ' 32\\n',\n",
              " \" Sandler O'Neill + Partners, World Trade Center.\\n\",\n",
              " 'Edelmiro Abad\\n',\n",
              " ' 54\\n',\n",
              " ' Brooklyn, N.Y., Fiduciary Trust Company International, World Trade Center.\\n',\n",
              " 'Marie Rose Abad\\n',\n",
              " ' 49\\n',\n",
              " ' Keefe, Bruyette&Woods, Inc., World Trade Center.\\n',\n",
              " 'Andrew Anthony Abate\\n',\n",
              " ' 37\\n',\n",
              " ' Melville, N.Y., Cantor Fitzgerald, World Trade Center.\\n',\n",
              " 'Vincent Paul Abate\\n',\n",
              " ' 40\\n',\n",
              " ' Brooklyn, N.Y., Cantor Fitzgerald, World Trade Center.\\n',\n",
              " 'Laurence Christopher Abel\\n',\n",
              " ' 37\\n',\n",
              " ' New York City, Cantor Fitzgerald, World Trade Center.\\n',\n",
              " 'Alona Abraham\\n',\n",
              " ' 30\\n',\n",
              " ' Ashdod, Israel, Passenger, United 175, World Trade Center.\\n',\n",
              " 'William F. Abrahamson\\n',\n",
              " ' 55\\n',\n",
              " ' Westchester County, N.Y., Marsh&McLennan Companies, Inc., World Trade Center.\\n',\n",
              " 'Richard Anthony Aceto\\n',\n",
              " ' 42\\n',\n",
              " ' Marsh&McLennan Companies, Inc., World Trade Center.\\n',\n",
              " 'Heinrich Bernhard Ackermann\\n',\n",
              " ' 38\\n',\n",
              " ' Aon Corporation, World Trade Center.\\n',\n",
              " 'Paul Acquaviva\\n',\n",
              " ' 29\\n',\n",
              " ' Glen Rock, N.J., Cantor Fitzgerald, World Trade Center.\\n',\n",
              " 'Christian Adams\\n',\n",
              " ' 37\\n',\n",
              " ' Passenger, United 93, Shanksville, Pa.\\n',\n",
              " 'Donald LaRoy Adams\\n',\n",
              " ' 28\\n',\n",
              " ' Cantor Fitzgerald, World Trade Center.\\n',\n",
              " 'Patrick Adams\\n',\n",
              " ' 61\\n',\n",
              " ' Fuji Bank, Ltd. security, World Trade Center.\\n',\n",
              " 'Shannon Lewis Adams\\n',\n",
              " ' 25\\n',\n",
              " ' Cantor Fitzgerald, World Trade Center.\\n',\n",
              " 'Stephen George Adams\\n',\n",
              " ' 51\\n',\n",
              " ' New York City, Windows on the World, World Trade Center.\\n',\n",
              " 'Ignatius Udo Adanga\\n',\n",
              " ' 62\\n',\n",
              " ' Bronx, N.Y., New York Metropolitan Transportation Council, World Trade Center.\\n',\n",
              " 'Christy A. Addamo\\n',\n",
              " ' 28\\n',\n",
              " ' New Hyde Park, N.Y., Marsh&McLennan Companies, Inc., World Trade Center.\\n',\n",
              " 'Terence Edward Adderley, Jr.\\n',\n",
              " ' 22\\n',\n",
              " ' New York City, Fred Alger Management, Inc., World Trade Center.\\n',\n",
              " 'Sophia B. Addo\\n',\n",
              " ' 36\\n',\n",
              " ' Bronx, N.Y., Windows on the World, World Trade Center.\\n',\n",
              " 'Lee Adler\\n',\n",
              " ' 48\\n',\n",
              " ' Cantor Fitzgerald, World Trade Center.\\n',\n",
              " 'Daniel Thomas Afflitto\\n',\n",
              " ' 32\\n',\n",
              " ' Manalapan, N.J., Cantor Fitzgerald, World Trade Center.\\n',\n",
              " 'Emmanuel Akwasi Afuakwah\\n',\n",
              " ' 37\\n',\n",
              " ' Windows on the World, World Trade Center.\\n',\n",
              " 'Alok Agarwal\\n',\n",
              " ' 36\\n',\n",
              " ' Cantor Fitzgerald, World Trade Center.\\n',\n",
              " 'Mukul Kumar Agarwala\\n',\n",
              " ' 37\\n',\n",
              " ' Fiduciary Trust Company International, World Trade Center.\\n',\n",
              " 'Joseph Agnello\\n',\n",
              " ' 35\\n',\n",
              " ' Belle Harbor, N.Y., New York City Fire Department, World Trade Center.\\n',\n",
              " 'David Scott Agnes\\n',\n",
              " ' 46\\n',\n",
              " ' Port Washington, N.Y., Cantor Fitzgerald, World Trade Center.\\n',\n",
              " 'Joao Alberto da Fonseca Aguiar, Jr.\\n',\n",
              " ' 30\\n',\n",
              " ' Hoboken, N.J., Keefe, Bruyette&Woods, Inc., World Trade Center.\\n',\n",
              " 'Brian G. Ahearn\\n',\n",
              " ' 43\\n',\n",
              " ' Huntington, N.Y., New York City Fire Department, World Trade Center.\\n',\n",
              " 'Jeremiah Joseph Ahern\\n',\n",
              " ' 74\\n',\n",
              " ' New Jersey, New York State Department of Taxation and Finance, World Trade Center.\\n',\n",
              " 'Joanne Marie Ahladiotis\\n',\n",
              " ' 27\\n',\n",
              " ' Forest Hills, N.Y., Cantor Fitzgerald, World Trade Center.\\n',\n",
              " 'Shabbir Ahmed\\n',\n",
              " ' 47\\n',\n",
              " ' Brooklyn, N.Y., Windows on the World, World Trade Center.\\n',\n",
              " 'Terrance Andre Aiken\\n',\n",
              " ' 30\\n',\n",
              " ' Marsh&McLennan consultant, World Trade Center.\\n',\n",
              " 'Godwin O. Ajala\\n']"
            ]
          },
          "metadata": {
            "tags": []
          },
          "execution_count": 14
        }
      ]
    },
    {
      "cell_type": "markdown",
      "metadata": {
        "id": "3BdGwy_go-ua"
      },
      "source": [
        "## Which reads better?"
      ]
    },
    {
      "cell_type": "code",
      "metadata": {
        "id": "uxbi_W5jo-ua"
      },
      "source": [
        "culled_lines = [l for l in lines if not needs_removal(l)]\n",
        "culled_lines = [l for l in lines if keep_line(l)]"
      ],
      "execution_count": null,
      "outputs": []
    },
    {
      "cell_type": "markdown",
      "metadata": {
        "id": "0CvSqM_Po-ue"
      },
      "source": [
        "#### Make it a function!"
      ]
    },
    {
      "cell_type": "code",
      "metadata": {
        "id": "G-lZLHIzo-uf"
      },
      "source": [
        "culled_lines = [l for l in lines if keep_line(l)]"
      ],
      "execution_count": null,
      "outputs": []
    },
    {
      "cell_type": "code",
      "metadata": {
        "scrolled": true,
        "id": "bgC4v9cro-ui",
        "outputId": "e0a93051-1be3-4737-b906-9c63fba73485"
      },
      "source": [
        "# Key\n",
        "\n",
        "from composable import pipeable\n",
        "cull_lines = pipeable(lambda L: [l for l in L if keep_line(l)])\n",
        "culled_lines = cull_lines(lines)\n",
        "culled_lines[:5]"
      ],
      "execution_count": null,
      "outputs": [
        {
          "output_type": "execute_result",
          "data": {
            "text/plain": [
              "['Gordon M. Aamoth, Jr.\\n',\n",
              " ' 32\\n',\n",
              " \" Sandler O'Neill + Partners, World Trade Center.\\n\",\n",
              " 'Edelmiro Abad\\n',\n",
              " ' 54\\n']"
            ]
          },
          "metadata": {
            "tags": []
          },
          "execution_count": 20
        }
      ]
    },
    {
      "cell_type": "markdown",
      "metadata": {
        "id": "M2R0HFcho-uk"
      },
      "source": [
        "# Clean Code Rule\n",
        "\n",
        "### *When writing Boolean expressions, avoid negatives whenever possible.*"
      ]
    },
    {
      "cell_type": "markdown",
      "metadata": {
        "id": "kCgKwsdeo-ul"
      },
      "source": [
        "<h2> <font color=\"red\"> Exercise 4.4.5 -- Saving our work </font> </h2>\n",
        "\n",
        "Now we will save our work by writing our progress to a text file.\n",
        "\n",
        "Complete the following steps."
      ]
    },
    {
      "cell_type": "markdown",
      "metadata": {
        "id": "g2_KbnZro-ul"
      },
      "source": [
        "#### Step 1 -- `'\\n'` join the `culled_lines`"
      ]
    },
    {
      "cell_type": "code",
      "metadata": {
        "id": "LE5Sk46No-um"
      },
      "source": [
        "output = '\\n'.join(culled_lines)\n"
      ],
      "execution_count": null,
      "outputs": []
    },
    {
      "cell_type": "markdown",
      "metadata": {
        "id": "DpP5Ir7vo-up"
      },
      "source": [
        "#### Step 2 -- Write the string to a file called `911_deaths_extra_removed.csv`"
      ]
    },
    {
      "cell_type": "code",
      "metadata": {
        "id": "Yip4YhqNo-up"
      },
      "source": [
        "with open('911_deaths_extra_removed.csv','w') as outfile:\n",
        "    outfile.write(output)"
      ],
      "execution_count": null,
      "outputs": []
    },
    {
      "cell_type": "code",
      "metadata": {
        "id": "usdd7uBwo-uu"
      },
      "source": [
        ""
      ],
      "execution_count": null,
      "outputs": []
    }
  ]
}